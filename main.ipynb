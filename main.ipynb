{
 "cells": [
  {
   "cell_type": "code",
   "execution_count": null,
   "metadata": {},
   "outputs": [],
   "source": [
    "from IPython.display import display\n",
    "import _functions\n",
    "\n",
    "# #Initialize client\n",
    "client = _functions.AsyncRequestClient('', '')\n",
    "\n",
    "# Initialize the set_widgets list\n",
    "token_input, url_input, query, field_id, bool_toggle, dropdown = _functions.create_input_widgets()\n",
    "display(token_input, dropdown, url_input, query, field_id, bool_toggle)\n"
   ]
  },
  {
   "cell_type": "code",
   "execution_count": null,
   "metadata": {},
   "outputs": [],
   "source": [
    "# Get Data\n",
    "await _functions.process_annotations(client, token_input, url_input, query, field_id, bool_toggle, dropdown)"
   ]
  }
 ],
 "metadata": {
  "kernelspec": {
   "display_name": ".venv",
   "language": "python",
   "name": "python3"
  },
  "language_info": {
   "codemirror_mode": {
    "name": "ipython",
    "version": 3
   },
   "file_extension": ".py",
   "mimetype": "text/x-python",
   "name": "python",
   "nbconvert_exporter": "python",
   "pygments_lexer": "ipython3",
   "version": "3.11.6"
  }
 },
 "nbformat": 4,
 "nbformat_minor": 4
}
