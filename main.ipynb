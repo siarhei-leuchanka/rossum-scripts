{
 "cells": [
  {
   "cell_type": "code",
   "execution_count": null,
   "metadata": {},
   "outputs": [],
   "source": [
    "from IPython.display import display\n",
    "import _functions\n",
    "from rs_classes import async_request_client as async_client\n",
    "\n",
    "# #Initialize client\n",
    "client = async_client.AsyncRequestClient('', '')\n",
    "\n",
    "# Initialize the set_widgets list\n",
    "url_input, bool_toggle, dropdown = _functions.create_input_widgets()\n",
    "display(dropdown, url_input, bool_toggle)"
   ]
  },
  {
   "cell_type": "markdown",
   "metadata": {},
   "source": [
    "### Put Token, Query and list of Fields to the next cell and run it. "
   ]
  },
  {
   "cell_type": "code",
   "execution_count": null,
   "metadata": {},
   "outputs": [],
   "source": [
    "token_input = \"\"\n",
    "query = {\n",
    "    \"query\": {\n",
    "        \"$and\": [\n",
    "            # {\n",
    "            #     \"queue\": {\n",
    "            #         \"$in\": [\n",
    "            #             \"https://elis.rossum.ai/api/v1/queues/XXXXXX\",\n",
    "            #             \"https://elis.rossum.ai/api/v1/queues/XXXXXX\",\n",
    "            #             \"https://elis.rossum.ai/api/v1/queues/XXXXXX\"\n",
    "            #         ]\n",
    "            #     }\n",
    "            # },\n",
    "            # {\n",
    "            #     \"field.sender_name.string\": {\n",
    "            #         \"$eq\": \"Contoso Ltd\"\n",
    "            #     }\n",
    "            # },\n",
    "            {\n",
    "                \"status\": {\n",
    "                    \"$in\": [\n",
    "                        \"confirmed\",\n",
    "                        \"exported\",\n",
    "                        \"to_review\"\n",
    "                    ]\n",
    "                }\n",
    "            }\n",
    "        ]\n",
    "    }\n",
    "}\n",
    "field_id = ['date_issue', 'document_id']\n",
    "await _functions.process_annotations(client, token_input, url_input, query, field_id, bool_toggle, dropdown)"
   ]
  }
 ],
 "metadata": {
  "kernelspec": {
   "display_name": ".venv",
   "language": "python",
   "name": "python3"
  },
  "language_info": {
   "codemirror_mode": {
    "name": "ipython",
    "version": 3
   },
   "file_extension": ".py",
   "mimetype": "text/x-python",
   "name": "python",
   "nbconvert_exporter": "python",
   "pygments_lexer": "ipython3",
   "version": "3.11.3"
  }
 },
 "nbformat": 4,
 "nbformat_minor": 4
}
