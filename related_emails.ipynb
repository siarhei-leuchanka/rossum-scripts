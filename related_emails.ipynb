{
 "cells": [
  {
   "cell_type": "code",
   "execution_count": 1,
   "metadata": {},
   "outputs": [
    {
     "data": {
      "application/vnd.jupyter.widget-view+json": {
       "model_id": "580ca13233414e4488ec3710bef5e06d",
       "version_major": 2,
       "version_minor": 0
      },
      "text/plain": [
       "Dropdown(description='Environment:', options={'prod-eu': 'https://elis.rossum.ai', 'prod-jp': 'https://shared-…"
      ]
     },
     "metadata": {},
     "output_type": "display_data"
    },
    {
     "data": {
      "application/vnd.jupyter.widget-view+json": {
       "model_id": "e333dd96be484f9290607ec1f36715b1",
       "version_major": 2,
       "version_minor": 0
      },
      "text/plain": [
       "Textarea(value='', description='Custom Domain:')"
      ]
     },
     "metadata": {},
     "output_type": "display_data"
    },
    {
     "data": {
      "application/vnd.jupyter.widget-view+json": {
       "model_id": "dada1cfc0c7d48019a1a2935581ddf89",
       "version_major": 2,
       "version_minor": 0
      },
      "text/plain": [
       "ToggleButtons(description='Load all pages of annotations:', index=1, options=(True, False), tooltips=('True', …"
      ]
     },
     "metadata": {},
     "output_type": "display_data"
    }
   ],
   "source": [
    "# import tracemalloc\n",
    "# tracemalloc.start()\n",
    "import pickle\n",
    "from IPython.display import display\n",
    "from rs_classes import async_request_client as async_client\n",
    "import rs_functions.fetch_annotations_list as fetch_annotations\n",
    "import rs_functions.fetch_annotation_content as fetch_annotation_content\n",
    "import rs_functions.data_transformations as data_transformations\n",
    "import rs_functions.fetch_annotation_meta as fetch_annotation_meta\n",
    "\n",
    "# #Initialize client\n",
    "client = async_client.AsyncRequestClient(\"\", \"\")\n",
    "\n",
    "# Initialize the set_widgets list\n",
    "url_input, bool_toggle, dropdown = data_transformations.create_input_widgets()\n",
    "display(dropdown, url_input, bool_toggle)"
   ]
  },
  {
   "cell_type": "code",
   "execution_count": null,
   "metadata": {},
   "outputs": [],
   "source": [
    "token_input = \"\"\n",
    "query = {\n",
    "    \"query\": {\n",
    "        \"$and\": [\n",
    "            # {\n",
    "            #     \"queue\": {\n",
    "            #         \"$in\": [\n",
    "            #             \"https://elis.rossum.ai/api/v1/queues/XXXXXX\",\n",
    "            #             \"https://elis.rossum.ai/api/v1/queues/XXXXXX\",\n",
    "            #             \"https://elis.rossum.ai/api/v1/queues/XXXXXX\"\n",
    "            #         ]\n",
    "            #     }\n",
    "            # },\n",
    "            # {\n",
    "            #     \"field.sender_name.string\": {\n",
    "            #         \"$eq\": \"Contoso Ltd\"\n",
    "            #     }\n",
    "            # },\n",
    "            {\n",
    "                \"status\": {\n",
    "                    \"$in\": [\n",
    "                        \"confirmed\",\n",
    "                        \"exported\",\n",
    "                        \"to_review\"\n",
    "                    ]\n",
    "                }\n",
    "            },\n",
    "            {\n",
    "                \"created_at\": {\"$gt\": \"2024-08-19T00:00:00\"}\n",
    "            }\n",
    "        ]\n",
    "    }\n",
    "}\n",
    "######################################################\n",
    "if dropdown.label == \"prod-eu2\":\n",
    "    url = f\"https://{url_input.value}{dropdown.value}\"\n",
    "    client.reset_inputs(token_input, f\"{url}/api\")\n",
    "else:\n",
    "    url = f\"{dropdown.value}\"\n",
    "    client.reset_inputs(token_input, f\"{url}/api\")\n",
    "######################################################"
   ]
  }
 ],
 "metadata": {
  "kernelspec": {
   "display_name": ".venv-rs-dev",
   "language": "python",
   "name": "python3"
  },
  "language_info": {
   "codemirror_mode": {
    "name": "ipython",
    "version": 3
   },
   "file_extension": ".py",
   "mimetype": "text/x-python",
   "name": "python",
   "nbconvert_exporter": "python",
   "pygments_lexer": "ipython3",
   "version": "3.11.3"
  }
 },
 "nbformat": 4,
 "nbformat_minor": 2
}
