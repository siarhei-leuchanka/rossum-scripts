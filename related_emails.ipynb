{
 "cells": [
  {
   "cell_type": "code",
   "execution_count": null,
   "metadata": {},
   "outputs": [],
   "source": [
    "# import tracemalloc\n",
    "# tracemalloc.start()\n",
    "import pickle\n",
    "from IPython.display import display\n",
    "from rs_classes import async_request_client as async_client\n",
    "import rs_functions.fetch_annotations_list as fetch_annotations\n",
    "import rs_functions.fetch_annotation_content as fetch_annotation_content\n",
    "import rs_functions.data_transformations as data_transformations\n",
    "import rs_functions.fetch_annotation_meta as fetch_annotation_meta\n",
    "import rs_functions.fetch_emails as fetch_emails\n",
    "\n",
    "# #Initialize client\n",
    "client = async_client.AsyncRequestClient(\"\", \"\")\n",
    "\n",
    "# Initialize the set_widgets list\n",
    "url_input, bool_toggle, dropdown = data_transformations.create_input_widgets()\n",
    "display(dropdown, url_input, bool_toggle)"
   ]
  },
  {
   "cell_type": "code",
   "execution_count": 3,
   "metadata": {},
   "outputs": [],
   "source": [
    "token_input = \"\"\n",
    "query = {\n",
    "    \"query\": {\n",
    "        \"$and\": [\n",
    "            # {\n",
    "            #     \"queue\": {\n",
    "            #         \"$in\": [\n",
    "            #             \"https://elis.rossum.ai/api/v1/queues/XXXXXX\",\n",
    "            #             \"https://elis.rossum.ai/api/v1/queues/XXXXXX\",\n",
    "            #             \"https://elis.rossum.ai/api/v1/queues/XXXXXX\"\n",
    "            #         ]\n",
    "            #     }\n",
    "            # },\n",
    "            # {\n",
    "            #     \"field.sender_name.string\": {\n",
    "            #         \"$eq\": \"Contoso Ltd\"\n",
    "            #     }\n",
    "            # },\n",
    "            {\n",
    "                \"status\": {\n",
    "                    \"$in\": [\n",
    "                        \"confirmed\",\n",
    "                        \"exported\",\n",
    "                        \"to_review\"\n",
    "                    ]\n",
    "                }\n",
    "            },\n",
    "            {\n",
    "                \"created_at\": {\"$gt\": \"2024-08-19T00:00:00\"}\n",
    "            }\n",
    "        ]\n",
    "    }\n",
    "}\n",
    "######################################################\n",
    "if dropdown.label == \"prod-eu2\":\n",
    "    url = f\"https://{url_input.value}{dropdown.value}\"\n",
    "    client.reset_inputs(token_input, f\"{url}/api\")\n",
    "else:\n",
    "    url = f\"{dropdown.value}\"\n",
    "    client.reset_inputs(token_input, f\"{url}/api\")\n",
    "######################################################"
   ]
  },
  {
   "cell_type": "code",
   "execution_count": null,
   "metadata": {},
   "outputs": [],
   "source": [
    "# to save data for later set True\n",
    "save_data = False\n",
    "saved_data_name = \"\"\n",
    "load_from_archive = \"\"\n",
    "\n",
    "######################################################\n",
    "# Collect annotations based on search query\n",
    "if load_from_archive:\n",
    "    print(\"loading from archive\")\n",
    "    with open(f'data_archive/{load_from_archive}', 'rb') as file:\n",
    "        annotations_collection = pickle.load(file)\n",
    "else:        \n",
    "    annotations_collection = await fetch_annotations.search_with_query(\n",
    "            client, query, allPages=bool_toggle.value, page_max=None)\n",
    "\n",
    "    await fetch_emails.get_email_content(client, annotations_collection)\n"
   ]
  }
 ],
 "metadata": {
  "kernelspec": {
   "display_name": ".venv-rs-dev",
   "language": "python",
   "name": "python3"
  },
  "language_info": {
   "codemirror_mode": {
    "name": "ipython",
    "version": 3
   },
   "file_extension": ".py",
   "mimetype": "text/x-python",
   "name": "python",
   "nbconvert_exporter": "python",
   "pygments_lexer": "ipython3",
   "version": "3.11.3"
  }
 },
 "nbformat": 4,
 "nbformat_minor": 2
}
