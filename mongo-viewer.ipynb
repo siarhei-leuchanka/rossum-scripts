{
 "cells": [
  {
   "cell_type": "code",
   "execution_count": 1,
   "metadata": {},
   "outputs": [],
   "source": [
    "import rs_classes.async_request_client as rs\n",
    "\n",
    "token = \"\"\n",
    "base_url = \"https://us.app.rossum.ai/api\"\n",
    "annotation_list = []\n",
    "client = rs.AsyncRequestClient(token, base_url)"
   ]
  },
  {
   "cell_type": "code",
   "execution_count": null,
   "metadata": {},
   "outputs": [],
   "source": [
    "import rs_classes.hooks as hs\n",
    "import rs_functions.fetch_annotations_meta as fetch_annotations_meta\n",
    "import rs_functions.fetch_annotation_content as fetch_annotation_content\n",
    "import rs_functions.mongo_viewer_functions as mvf\n",
    "\n",
    "annotations_collection = await fetch_annotations_meta.get_annotation_meta(client, annotation_list)\n",
    "await fetch_annotation_content.get_annotation_content(client, annotations_collection)\n",
    "hooks = await mvf.collect_hooks_per_annotation(client, annotations_collection)\n"
   ]
  },
  {
   "cell_type": "markdown",
   "metadata": {},
   "source": []
  }
 ],
 "metadata": {
  "kernelspec": {
   "display_name": ".venv-rs-dev",
   "language": "python",
   "name": "python3"
  },
  "language_info": {
   "codemirror_mode": {
    "name": "ipython",
    "version": 3
   },
   "file_extension": ".py",
   "mimetype": "text/x-python",
   "name": "python",
   "nbconvert_exporter": "python",
   "pygments_lexer": "ipython3",
   "version": "3.11.3"
  }
 },
 "nbformat": 4,
 "nbformat_minor": 2
}
