{
 "cells": [
  {
   "cell_type": "code",
   "execution_count": 1,
   "metadata": {},
   "outputs": [],
   "source": [
    "import rs_classes.async_request_client as rs\n",
    "import rs_classes.hooks as hs\n",
    "import rs_functions.fetch_annotations_meta as fetch_annotations_meta\n",
    "import rs_functions.fetch_annotation_content as fetch_annotation_content\n",
    "import rs_functions.mongo_viewer_functions as mvf\n",
    "\n",
    "token = \"\"\n",
    "base_url = \"\"\n",
    "\n",
    "client = rs.AsyncRequestClient(token, base_url)"
   ]
  },
  {
   "cell_type": "code",
   "execution_count": null,
   "metadata": {},
   "outputs": [],
   "source": [
    "annotation_list = []\n",
    "\n",
    "annotations_collection = await fetch_annotations_meta.get_annotation_meta(client, annotation_list)\n",
    "await fetch_annotation_content.get_annotation_content(client, annotations_collection)\n",
    "hooks = await mvf.collect_hooks_per_annotation(client, annotations_collection)"
   ]
  },
  {
   "cell_type": "code",
   "execution_count": null,
   "metadata": {},
   "outputs": [],
   "source": [
    "import ipywidgets as widgets\n",
    "from IPython.display import display, HTML\n",
    "import json\n",
    "\n",
    "target_schema_id = \"vendor_match\"\n",
    "\n",
    "for annotation_id, annotation in annotations_collection.items():\n",
    "    print(f\"\\033[33m Analysing annotation: {annotation_id}.. \\033[0m\")      \n",
    "    for hook in annotation.related_hooks:        \n",
    "        hook_obj =hooks.get_hook(hook.split(\"/\")[-1])\n",
    "        if hook_obj.hook_template == \"https://us.app.rossum.ai/api/v1/hook_templates/39\": \n",
    "            configuration_number = 0                                   \n",
    "            for configuration in hook_obj.settings.get(\"configurations\", None):                                \n",
    "                if target_schema_id == configuration[\"mapping\"][\"target_schema_id\"]:\n",
    "                    configuration_number += 1                                        \n",
    "                    print( f\"\\033[36m Hook {hook_obj.id} - {hook_obj.name} has configuration #:{configuration_number} with target_schema_id = {target_schema_id}\\033[0m\")                                                                                                    \n",
    "                    for query in configuration[\"source\"][\"queries\"]:                                                                        \n",
    "                        mvf.find_and_replace_placeholder(query, annotation.annotation_content)                        \n",
    "                        if query.get(\"find\"):                                                        \n",
    "                            result = await client.data_storage_find(collectionName=configuration[\"source\"][\"dataset\"], query=query[\"find\"])                            \n",
    "                        elif query.get(\"aggregate\"):\n",
    "                            result = await client.data_storage_aggregate(collectionName=configuration[\"source\"][\"dataset\"], pipeline=query[\"aggregate\"])                                                        \n",
    "                        else:\n",
    "                            print(\"No Find or Aggregate has been found\")\n",
    "                        \n",
    "                        # Formatting query and result for display\n",
    "                        query_display = widgets.Textarea(\n",
    "                            value=json.dumps(query, indent=4),\n",
    "                            description='Query:',\n",
    "                            layout=widgets.Layout(width='100%', height='250px'),\n",
    "                            style={'description_width': 'initial'},\n",
    "                        )\n",
    "                        result_display = widgets.Textarea(\n",
    "                            value=json.dumps(result[\"result\"], indent=4) if result else \"No result\",\n",
    "                            description='Result:',\n",
    "                            layout=widgets.Layout(width='100%', height='250px')\n",
    "                        )\n",
    "                        display(widgets.VBox([query_display, result_display]))                         "
   ]
  }
 ],
 "metadata": {
  "kernelspec": {
   "display_name": ".venv-rs-dev",
   "language": "python",
   "name": "python3"
  },
  "language_info": {
   "codemirror_mode": {
    "name": "ipython",
    "version": 3
   },
   "file_extension": ".py",
   "mimetype": "text/x-python",
   "name": "python",
   "nbconvert_exporter": "python",
   "pygments_lexer": "ipython3",
   "version": "3.11.3"
  }
 },
 "nbformat": 4,
 "nbformat_minor": 2
}
