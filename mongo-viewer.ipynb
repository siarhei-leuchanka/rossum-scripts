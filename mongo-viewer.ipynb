{
 "cells": [
  {
   "cell_type": "code",
   "execution_count": 1,
   "metadata": {},
   "outputs": [],
   "source": [
    "import rs_classes.async_request_client as rs\n",
    "import rs_classes.hooks as hs\n",
    "import rs_functions.fetch_annotations_meta as fetch_annotations_meta\n",
    "import rs_functions.fetch_annotation_content as fetch_annotation_content\n",
    "import rs_functions.mongo_viewer_functions as mvf\n",
    "\n",
    "token = \"\"\n",
    "base_url = \"https://us.app.rossum.ai/api\"\n",
    "\n",
    "client = rs.AsyncRequestClient(token, base_url)"
   ]
  },
  {
   "cell_type": "code",
   "execution_count": null,
   "metadata": {},
   "outputs": [],
   "source": [
    "annotation_list = [\"7700996\"]\n",
    "\n",
    "annotations_collection = await fetch_annotations_meta.get_annotation_meta(client, annotation_list)\n",
    "await fetch_annotation_content.get_annotation_content(client, annotations_collection)\n",
    "hooks = await mvf.collect_hooks_per_annotation(client, annotations_collection)\n"
   ]
  },
  {
   "cell_type": "code",
   "execution_count": null,
   "metadata": {},
   "outputs": [],
   "source": [
    "target_schema_id = \"document_terms_match\"\n",
    "\n",
    "\n",
    "# WORK IN PROGRESS\n",
    "# let's try to get all loops\n",
    "\n",
    "for annotation_id, annotation in annotations_collection.items():\n",
    "\n",
    "    # in this place we should have multiple blocks with UI analysis\n",
    "    \n",
    "    for hook in annotation.related_hooks:\n",
    "        \n",
    "        hook_obj =hooks.get_hook(hook.split(\"/\")[-1])\n",
    "\n",
    "        if hook_obj.hook_template == \"https://us.app.rossum.ai/api/v1/hook_templates/39\":                        \n",
    "            \n",
    "            for configuration in hook_obj.settings.get(\"configurations\", None):                \n",
    "                \n",
    "                if target_schema_id == configuration[\"mapping\"][\"target_schema_id\"]:\n",
    "                    \n",
    "                    print(f\"\\033[33m Analysing annotation: {annotation_id}.. \\033[0m\")\n",
    "                    print( f\"\\033[36m Hook {hook_obj.id} - {hook_obj.name} has configuration with target_schema_id = {target_schema_id}\\033[0m\")                                        \n",
    "                    \n",
    "                    for query in configuration[\"source\"][\"queries\"]:\n",
    "\n",
    "                        result = None\n",
    "                        ### FIND ALL PLACEHOLDERS AND REPLACE THEM WITH REAL VALUES.\n",
    "                        \n",
    "                        mvf.find_and_replace_placeholder(query, annotation.annotation_content)\n",
    "\n",
    "                        print(query)\n",
    "\n",
    "                        if query.get(\"find\"):\n",
    "                            print(\"find\")\n",
    "                            ## Go with \"find\"\n",
    "\n",
    "                            find = await client.data_storage_find(collectionName=configuration[\"source\"][\"dataset\"], query=query[\"find\"])\n",
    "                            print(find)\n",
    "\n",
    "                        elif query.get(\"aggregate\"):\n",
    "                            print(\"aggregate\")\n",
    "                            \n",
    "                            aggregate = await client.data_storage_aggregate(collectionName=configuration[\"source\"][\"dataset\"], pipeline=query[\"aggregate\"])\n",
    "                            print(aggregate)\n",
    "                            # here the aggregation must be further split by pipeline stages. However for now let's check them as they are.                             \n",
    "\n",
    "                        else:\n",
    "                            print(\"No Find or Aggregate has been found\")\n",
    "\n",
    "                        \n",
    "                        # check result and if it is not empty break the loop. \n",
    "                        "
   ]
  }
 ],
 "metadata": {
  "kernelspec": {
   "display_name": ".venv-rs-dev",
   "language": "python",
   "name": "python3"
  },
  "language_info": {
   "codemirror_mode": {
    "name": "ipython",
    "version": 3
   },
   "file_extension": ".py",
   "mimetype": "text/x-python",
   "name": "python",
   "nbconvert_exporter": "python",
   "pygments_lexer": "ipython3",
   "version": "3.11.3"
  }
 },
 "nbformat": 4,
 "nbformat_minor": 2
}
